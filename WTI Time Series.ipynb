{
 "cells": [
  {
   "cell_type": "markdown",
   "metadata": {},
   "source": [
    "# Time Series with WTI Crude"
   ]
  },
  {
   "cell_type": "markdown",
   "metadata": {},
   "source": [
    "West Texas Intermediate or WTI has spot price data at several locations for this example we are pulling from one of my favorite sources of 3rd party data the St. Louis Federal Reserve's Economic Research or FRED. In this case the data can be found via .csv from [WTI FRED Data](https://fred.stlouisfed.org/series/DCOILWTICO).\n",
    "\n",
    "### So what's so signficant about WTI Crude?\n",
    "In short this is America's oil. WTI is what is found in oil plays all around the United States. WTI is sometimes known as Texas light sweet as a grade of crude oil. It's a medium crude oil because of it's low density and it's sweet because of its low sulfur content.\n",
    "\n",
    "The major trading hub for WTI is in a small town in the state of Oklahoma called Cushing, Oklahoma. Make no bones about it, Cushing, Oklahoma is a strategically important hub in U.S. Energy.\n",
    "\n",
    "Now WTI can be quoted in 3 major locations:\n",
    "* Midland, TX - This is the heart of Texas Oil Production\n",
    "* Cushing, OK - Major transportation and storage hub\n",
    "* Houston, TX - Where oil moves on to international markets\n",
    "\n",
    "As someone who grew up and lived in Oklahoma, the oil and natural gas industry is vital to the citizens of that state. States like the Dakotas, Alaska, rural Texas, Wyoming depend on oil and natural gas for jobs and a strong macroeconomy. \n",
    "\n",
    "We often see when oil prices are up those economies are doing well and unemployement may be 3% or even around 2%. Other parts of the country however, consumers often see prices of one of their major commodities rise and they have the inverse problem as wages often don't move along with rising energy costs.\n",
    "\n",
    "There are many reasons as to why we would want to forecast the price of WTI. I outlined a few of them. We did not cover geopolitics or banking, I'll leave that to another person."
   ]
  },
  {
   "cell_type": "markdown",
   "metadata": {},
   "source": [
    "## The Data\n",
    "\n",
    "Like we explained in the above this data are from spot price in Cushing, OK via the FRED. The data is daily in nature. This is where we start coding."
   ]
  },
  {
   "cell_type": "code",
   "execution_count": 6,
   "metadata": {},
   "outputs": [],
   "source": [
    "# Packages\n",
    "import warnings\n",
    "import numpy as np\n",
    "import pandas as pd\n",
    "import matplotlib.pyplot as plt\n",
    "warnings.filterwarnings(\"ignore\")\n",
    "plt.style.use('fivethirtyeight')\n",
    "import matplotlib\n",
    "# ARIMA and other stat toys\n",
    "import statsmodels.api as sm\n",
    "# New shiny toy for forecasting\n",
    "from fbprophet import Prophet"
   ]
  },
  {
   "cell_type": "code",
   "execution_count": 46,
   "metadata": {},
   "outputs": [
    {
     "data": {
      "text/html": [
       "<div>\n",
       "<style scoped>\n",
       "    .dataframe tbody tr th:only-of-type {\n",
       "        vertical-align: middle;\n",
       "    }\n",
       "\n",
       "    .dataframe tbody tr th {\n",
       "        vertical-align: top;\n",
       "    }\n",
       "\n",
       "    .dataframe thead th {\n",
       "        text-align: right;\n",
       "    }\n",
       "</style>\n",
       "<table border=\"1\" class=\"dataframe\">\n",
       "  <thead>\n",
       "    <tr style=\"text-align: right;\">\n",
       "      <th></th>\n",
       "      <th>DATE</th>\n",
       "      <th>DCOILWTICO</th>\n",
       "    </tr>\n",
       "  </thead>\n",
       "  <tbody>\n",
       "    <tr>\n",
       "      <th>0</th>\n",
       "      <td>2013-10-01</td>\n",
       "      <td>102.09</td>\n",
       "    </tr>\n",
       "    <tr>\n",
       "      <th>1</th>\n",
       "      <td>2013-10-02</td>\n",
       "      <td>104.15</td>\n",
       "    </tr>\n",
       "    <tr>\n",
       "      <th>2</th>\n",
       "      <td>2013-10-03</td>\n",
       "      <td>103.29</td>\n",
       "    </tr>\n",
       "    <tr>\n",
       "      <th>3</th>\n",
       "      <td>2013-10-04</td>\n",
       "      <td>103.83</td>\n",
       "    </tr>\n",
       "    <tr>\n",
       "      <th>4</th>\n",
       "      <td>2013-10-07</td>\n",
       "      <td>103.07</td>\n",
       "    </tr>\n",
       "  </tbody>\n",
       "</table>\n",
       "</div>"
      ],
      "text/plain": [
       "        DATE  DCOILWTICO\n",
       "0 2013-10-01      102.09\n",
       "1 2013-10-02      104.15\n",
       "2 2013-10-03      103.29\n",
       "3 2013-10-04      103.83\n",
       "4 2013-10-07      103.07"
      ]
     },
     "execution_count": 46,
     "metadata": {},
     "output_type": "execute_result"
    }
   ],
   "source": [
    "df = pd.read_excel(\"wtiPrice.xlsx\")\n",
    "\n",
    "# Get our first few rows to check\n",
    "df.head()"
   ]
  },
  {
   "cell_type": "markdown",
   "metadata": {},
   "source": [
    "So right off the bat we can see that this is business day data. No big deal.\n",
    "\n",
    "I'm not going to create a daily forecast. We can let day traders or financial institutions do that, better word would be attempt. Daily forecast of commodities is tough. We are going to focus on some longer term forecast here. I'll dive a little deeper into forecasting as an art and science a little later."
   ]
  },
  {
   "cell_type": "markdown",
   "metadata": {},
   "source": [
    "#### Data Types"
   ]
  },
  {
   "cell_type": "code",
   "execution_count": 47,
   "metadata": {},
   "outputs": [
    {
     "data": {
      "text/plain": [
       "DATE          datetime64[ns]\n",
       "DCOILWTICO           float64\n",
       "dtype: object"
      ]
     },
     "execution_count": 47,
     "metadata": {},
     "output_type": "execute_result"
    }
   ],
   "source": [
    "# Types of data\n",
    "df.dtypes"
   ]
  },
  {
   "cell_type": "code",
   "execution_count": 48,
   "metadata": {},
   "outputs": [
    {
     "data": {
      "text/plain": [
       "(Timestamp('2013-10-01 00:00:00'), Timestamp('2018-10-01 00:00:00'))"
      ]
     },
     "execution_count": 48,
     "metadata": {},
     "output_type": "execute_result"
    }
   ],
   "source": [
    "# How much of a time range do we have\n",
    "# Use the Order date field and Min and Max function\n",
    "df['DATE'].min(), df['DATE'].max()"
   ]
  },
  {
   "cell_type": "code",
   "execution_count": 50,
   "metadata": {},
   "outputs": [
    {
     "data": {
      "text/plain": [
       "DatetimeIndex(['2013-10-01', '2013-10-02', '2013-10-03', '2013-10-04',\n",
       "               '2013-10-07', '2013-10-08', '2013-10-09', '2013-10-10',\n",
       "               '2013-10-11', '2013-10-14',\n",
       "               ...\n",
       "               '2018-09-18', '2018-09-19', '2018-09-20', '2018-09-21',\n",
       "               '2018-09-24', '2018-09-25', '2018-09-26', '2018-09-27',\n",
       "               '2018-09-28', '2018-10-01'],\n",
       "              dtype='datetime64[ns]', name='DATE', length=1259, freq=None)"
      ]
     },
     "execution_count": 50,
     "metadata": {},
     "output_type": "execute_result"
    }
   ],
   "source": [
    "df = df.groupby('DATE')['DCOILWTICO'].sum().reset_index()\n",
    "\n",
    "# Set index \n",
    "df = df.set_index('DATE')\n",
    "df.index"
   ]
  },
  {
   "cell_type": "code",
   "execution_count": 53,
   "metadata": {},
   "outputs": [
    {
     "data": {
      "text/plain": [
       "DATE\n",
       "2016-01-01    31.683158\n",
       "2016-02-01    30.323000\n",
       "2016-03-01    37.546364\n",
       "2016-04-01    40.755238\n",
       "2016-05-01    46.712381\n",
       "2016-06-01    48.757273\n",
       "2016-07-01    44.651500\n",
       "2016-08-01    44.724348\n",
       "2016-09-01    45.182381\n",
       "2016-10-01    49.775238\n",
       "2016-11-01    45.660952\n",
       "2016-12-01    51.970476\n",
       "Freq: MS, Name: DCOILWTICO, dtype: float64"
      ]
     },
     "execution_count": 53,
     "metadata": {},
     "output_type": "execute_result"
    }
   ],
   "source": [
    "y = df['DCOILWTICO'].resample('MS').mean()\n",
    "y['2016']"
   ]
  },
  {
   "cell_type": "code",
   "execution_count": null,
   "metadata": {
    "collapsed": true
   },
   "outputs": [],
   "source": []
  }
 ],
 "metadata": {
  "kernelspec": {
   "display_name": "Python 3",
   "language": "python",
   "name": "python3"
  },
  "language_info": {
   "codemirror_mode": {
    "name": "ipython",
    "version": 3
   },
   "file_extension": ".py",
   "mimetype": "text/x-python",
   "name": "python",
   "nbconvert_exporter": "python",
   "pygments_lexer": "ipython3",
   "version": "3.6.1"
  }
 },
 "nbformat": 4,
 "nbformat_minor": 2
}
